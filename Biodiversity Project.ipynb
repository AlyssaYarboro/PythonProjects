{
 "cells": [
  {
   "cell_type": "markdown",
   "id": "633910e6",
   "metadata": {},
   "source": [
    "# Introduction\n",
    "## For this project, we will look at data from the National Parks Service about endangered species in different parks. We will be analyzing the biodiversity and seeing if there are any trends or patterns to which species are likely to become endangered.\n",
    "### Importing Our Data"
   ]
  },
  {
   "cell_type": "markdown",
   "id": "2d3b8324",
   "metadata": {},
   "source": [
    "The first step we will take is to import all the libraries that we will be using in order to analyze our data.\n",
    "\n",
    "After importing the libraries, we will load the two datasets that we have available and look at the first few rows to have a better understanding of how we will proceed with the analysis."
   ]
  },
  {
   "cell_type": "code",
   "execution_count": 30,
   "id": "278e2acf",
   "metadata": {},
   "outputs": [
    {
     "name": "stdout",
     "output_type": "stream",
     "text": [
      "  category                scientific_name  \\\n",
      "0   Mammal  Clethrionomys gapperi gapperi   \n",
      "1   Mammal                      Bos bison   \n",
      "2   Mammal                     Bos taurus   \n",
      "3   Mammal                     Ovis aries   \n",
      "4   Mammal                 Cervus elaphus   \n",
      "5   Mammal         Odocoileus virginianus   \n",
      "6   Mammal                     Sus scrofa   \n",
      "7   Mammal                  Canis latrans   \n",
      "8   Mammal                    Canis lupus   \n",
      "9   Mammal                    Canis rufus   \n",
      "\n",
      "                                        common_names conservation_status  \n",
      "0                           Gapper's Red-Backed Vole                 NaN  \n",
      "1                              American Bison, Bison                 NaN  \n",
      "2  Aurochs, Aurochs, Domestic Cattle (Feral), Dom...                 NaN  \n",
      "3  Domestic Sheep, Mouflon, Red Sheep, Sheep (Feral)                 NaN  \n",
      "4                                      Wapiti Or Elk                 NaN  \n",
      "5                                  White-Tailed Deer                 NaN  \n",
      "6                                Feral Hog, Wild Pig                 NaN  \n",
      "7                                             Coyote  Species of Concern  \n",
      "8                                          Gray Wolf          Endangered  \n",
      "9                                           Red Wolf          Endangered  \n",
      "                     scientific_name                            park_name  \\\n",
      "0                 Vicia benghalensis  Great Smoky Mountains National Park   \n",
      "1                     Neovison vison  Great Smoky Mountains National Park   \n",
      "2                  Prunus subcordata               Yosemite National Park   \n",
      "3               Abutilon theophrasti                  Bryce National Park   \n",
      "4           Githopsis specularioides  Great Smoky Mountains National Park   \n",
      "5  Elymus virginicus var. virginicus               Yosemite National Park   \n",
      "6                   Spizella pusilla            Yellowstone National Park   \n",
      "7                  Elymus multisetus  Great Smoky Mountains National Park   \n",
      "8             Lysimachia quadrifolia               Yosemite National Park   \n",
      "9         Diphyscium cumberlandianum            Yellowstone National Park   \n",
      "\n",
      "   observations  \n",
      "0            68  \n",
      "1            77  \n",
      "2           138  \n",
      "3            84  \n",
      "4            85  \n",
      "5           112  \n",
      "6           228  \n",
      "7            39  \n",
      "8           168  \n",
      "9           250  \n"
     ]
    }
   ],
   "source": [
    "import pandas as pd\n",
    "import numpy as np\n",
    "import seaborn as sns\n",
    "import matplotlib.pyplot as plt\n",
    "\n",
    "species = pd.read_csv(r'C:\\Users\\amyar\\Downloads\\biodiversity-starter\\biodiversity_starter\\species_info.csv')\n",
    "observations = pd.read_csv(r'C:\\Users\\amyar\\Downloads\\biodiversity-starter\\biodiversity_starter\\observations.csv')\n",
    "\n",
    "print(species.head(10))\n",
    "print(observations.head(10))"
   ]
  },
  {
   "cell_type": "markdown",
   "id": "3e751e11",
   "metadata": {},
   "source": [
    "There are a lot of NaN in the conservation_status column. These are in place for all the species that are not endangered and so need no interventions. We will replace the NaN with \"No Intervention\"."
   ]
  },
  {
   "cell_type": "code",
   "execution_count": 31,
   "id": "f7701ee1",
   "metadata": {},
   "outputs": [],
   "source": [
    "species.fillna(value = \"No Intervention\", inplace=True)"
   ]
  },
  {
   "cell_type": "markdown",
   "id": "ee1b89a9",
   "metadata": {},
   "source": [
    "Now we will go breakdown our dataset to see how many different species there are, the different types of species, and the levels of status concerns."
   ]
  },
  {
   "cell_type": "code",
   "execution_count": 32,
   "id": "9c542770",
   "metadata": {},
   "outputs": [
    {
     "name": "stdout",
     "output_type": "stream",
     "text": [
      "There are 5541 different species.\n",
      "The categories of different species are listed as follows: \n",
      "['Mammal' 'Bird' 'Reptile' 'Amphibian' 'Fish' 'Vascular Plant'\n",
      " 'Nonvascular Plant']\n",
      "The different types of stats concerns are also listed as follows: \n",
      "['No Intervention' 'Species of Concern' 'Endangered' 'Threatened'\n",
      " 'In Recovery']\n"
     ]
    }
   ],
   "source": [
    "print(\"There are \" + str(len(species['scientific_name'].unique())) + (\" different species.\"))\n",
    "print(\"The categories of different species are listed as follows: \")\n",
    "print(species['category'].unique())\n",
    "print(\"The different types of stats concerns are also listed as follows: \")\n",
    "print(species['conservation_status'].unique())"
   ]
  },
  {
   "cell_type": "code",
   "execution_count": 33,
   "id": "e9c8a4d9",
   "metadata": {},
   "outputs": [
    {
     "data": {
      "text/plain": [
       "category\n",
       "Amphibian              80\n",
       "Bird                  521\n",
       "Fish                  127\n",
       "Mammal                214\n",
       "Nonvascular Plant     333\n",
       "Reptile                79\n",
       "Vascular Plant       4470\n",
       "dtype: int64"
      ]
     },
     "execution_count": 33,
     "metadata": {},
     "output_type": "execute_result"
    }
   ],
   "source": [
    "species.groupby(\"category\").size()"
   ]
  },
  {
   "cell_type": "code",
   "execution_count": 34,
   "id": "63c87286",
   "metadata": {},
   "outputs": [
    {
     "data": {
      "text/plain": [
       "conservation_status\n",
       "Endangered              16\n",
       "In Recovery              4\n",
       "No Intervention       5633\n",
       "Species of Concern     161\n",
       "Threatened              10\n",
       "dtype: int64"
      ]
     },
     "execution_count": 34,
     "metadata": {},
     "output_type": "execute_result"
    }
   ],
   "source": [
    "species.groupby(\"conservation_status\").size()"
   ]
  },
  {
   "cell_type": "code",
   "execution_count": 35,
   "id": "3db83071",
   "metadata": {},
   "outputs": [
    {
     "name": "stdout",
     "output_type": "stream",
     "text": [
      "  conservation_status  scientific_name\n",
      "1         In Recovery                4\n",
      "4          Threatened               10\n",
      "0          Endangered               15\n",
      "3  Species of Concern              151\n",
      "2     No Intervention             5363\n"
     ]
    }
   ],
   "source": [
    "status_counts = species.groupby('conservation_status').scientific_name.nunique().reset_index().sort_values(by='scientific_name')\n",
    "print(status_counts)"
   ]
  },
  {
   "cell_type": "markdown",
   "id": "01bd95c4",
   "metadata": {},
   "source": [
    "### Creating Bar Charts\n",
    "We will create our first bar chart that shows the number of species we have for each level of concern."
   ]
  },
  {
   "cell_type": "code",
   "execution_count": 39,
   "id": "e0037a6d",
   "metadata": {},
   "outputs": [
    {
     "data": {
      "image/png": "[encoded data removed]",
      "text/plain": [
       "<Figure size 1000x500 with 1 Axes>"
      ]
     },
     "metadata": {},
     "output_type": "display_data"
    }
   ],
   "source": [
    "fig = plt.figure(figsize=(10, 5))\n",
    "ax = plt.subplot()\n",
    "plt.bar(status_counts['conservation_status'], status_counts['scientific_name'])\n",
    "ax.set_xticks(range(len(status_counts)))\n",
    "plt.ylabel(\"Number of Species\")\n",
    "plt.title(\"Conservation Status by Species\")\n",
    "plt.show()"
   ]
  },
  {
   "cell_type": "markdown",
   "id": "c3822905",
   "metadata": {},
   "source": [
    "To get a better view and understanding of the species that do have conservation concerns, let's break it down without the \"No Intervention\" group. We can create a chart that separates the different levels of conservation status with the different types of species. From there, we can create another bar chart that's stacked to show the total number of species that are in concerned levels, separated by the species that make up each stack."
   ]
  },
  {
   "cell_type": "code",
   "execution_count": 36,
   "id": "e2962e7c",
   "metadata": {},
   "outputs": [
    {
     "name": "stdout",
     "output_type": "stream",
     "text": [
      "category             Amphibian  Bird  Fish  Mammal  Nonvascular Plant  \\\n",
      "conservation_status                                                     \n",
      "Endangered                 1.0   4.0   3.0     7.0                NaN   \n",
      "In Recovery                NaN   3.0   NaN     1.0                NaN   \n",
      "Species of Concern         4.0  72.0   4.0    28.0                5.0   \n",
      "Threatened                 2.0   NaN   4.0     2.0                NaN   \n",
      "\n",
      "category             Reptile  Vascular Plant  \n",
      "conservation_status                           \n",
      "Endangered               NaN             1.0  \n",
      "In Recovery              NaN             NaN  \n",
      "Species of Concern       5.0            43.0  \n",
      "Threatened               NaN             2.0  \n"
     ]
    }
   ],
   "source": [
    "ConsCategory = species[species.conservation_status != 'No Intervention'].groupby(['conservation_status', 'category'])['scientific_name'].count().unstack()\n",
    "print(ConsCategory.head())"
   ]
  },
  {
   "cell_type": "code",
   "execution_count": 44,
   "id": "f77104f6",
   "metadata": {},
   "outputs": [
    {
     "data": {
      "image/png": "[encoded data removed]",
      "text/plain": [
       "<Figure size 800x800 with 1 Axes>"
      ]
     },
     "metadata": {},
     "output_type": "display_data"
    }
   ],
   "source": [
    "ax = ConsCategory.plot(kind='bar', figsize=(8,8), stacked=True)\n",
    "ax.set_xlabel(\"Consveration Status\")\n",
    "ax.set_ylabel(\"Number of Species\");"
   ]
  },
  {
   "cell_type": "markdown",
   "id": "0c0881fe",
   "metadata": {},
   "source": [
    "### Performing Statistics\n",
    "\n",
    "The next step we will take involves finding the total percentage of species that are endangered. In order to do this, we will need to create another column in the species dataframe called 'is_protected'."
   ]
  },
  {
   "cell_type": "code",
   "execution_count": 45,
   "id": "cc3ef074",
   "metadata": {},
   "outputs": [
    {
     "name": "stdout",
     "output_type": "stream",
     "text": [
      "  category                scientific_name  \\\n",
      "0   Mammal  Clethrionomys gapperi gapperi   \n",
      "1   Mammal                      Bos bison   \n",
      "2   Mammal                     Bos taurus   \n",
      "3   Mammal                     Ovis aries   \n",
      "4   Mammal                 Cervus elaphus   \n",
      "\n",
      "                                        common_names conservation_status  \\\n",
      "0                           Gapper's Red-Backed Vole     No Intervention   \n",
      "1                              American Bison, Bison     No Intervention   \n",
      "2  Aurochs, Aurochs, Domestic Cattle (Feral), Dom...     No Intervention   \n",
      "3  Domestic Sheep, Mouflon, Red Sheep, Sheep (Feral)     No Intervention   \n",
      "4                                      Wapiti Or Elk     No Intervention   \n",
      "\n",
      "   is_protected  \n",
      "0         False  \n",
      "1         False  \n",
      "2         False  \n",
      "3         False  \n",
      "4         False  \n"
     ]
    }
   ],
   "source": [
    "species['is_protected'] = species['conservation_status'].apply(lambda x: True if x != \"No Intervention\" else False)\n",
    "print(species.head())"
   ]
  },
  {
   "cell_type": "code",
   "execution_count": 47,
   "id": "8cdbae1f",
   "metadata": {},
   "outputs": [
    {
     "name": "stdout",
     "output_type": "stream",
     "text": [
      "                                scientific_name  common_names  \\\n",
      "category          is_protected                                  \n",
      "Amphibian         False                      73            73   \n",
      "                  True                        7             7   \n",
      "Bird              False                     442           442   \n",
      "                  True                       79            79   \n",
      "Fish              False                     116           116   \n",
      "                  True                       11            11   \n",
      "Mammal            False                     176           176   \n",
      "                  True                       38            38   \n",
      "Nonvascular Plant False                     328           328   \n",
      "                  True                        5             5   \n",
      "Reptile           False                      74            74   \n",
      "                  True                        5             5   \n",
      "Vascular Plant    False                    4424          4424   \n",
      "                  True                       46            46   \n",
      "\n",
      "                                conservation_status  \n",
      "category          is_protected                       \n",
      "Amphibian         False                          73  \n",
      "                  True                            7  \n",
      "Bird              False                         442  \n",
      "                  True                           79  \n",
      "Fish              False                         116  \n",
      "                  True                           11  \n",
      "Mammal            False                         176  \n",
      "                  True                           38  \n",
      "Nonvascular Plant False                         328  \n",
      "                  True                            5  \n",
      "Reptile           False                          74  \n",
      "                  True                            5  \n",
      "Vascular Plant    False                        4424  \n",
      "                  True                           46  \n"
     ]
    }
   ],
   "source": [
    "status_counts = species.groupby(['category', 'is_protected']).count()\n",
    "print(status_counts)"
   ]
  },
  {
   "cell_type": "markdown",
   "id": "ed8ee650",
   "metadata": {},
   "source": [
    "The above table is a little difficult to read. Let's pivot it to make it more understandable, and also change the names of the columns to better fit our data."
   ]
  },
  {
   "cell_type": "code",
   "execution_count": 51,
   "id": "f485a9f5",
   "metadata": {},
   "outputs": [
    {
     "name": "stdout",
     "output_type": "stream",
     "text": [
      "is_protected       False  True\n",
      "category                      \n",
      "Amphibian             73     7\n",
      "Bird                 442    79\n",
      "Fish                 116    11\n",
      "Mammal               176    38\n",
      "Nonvascular Plant    328     5\n",
      "Reptile               74     5\n",
      "Vascular Plant      4424    46\n"
     ]
    }
   ],
   "source": [
    "status_pivot = pd.pivot_table(status_counts, values = 'scientific_name', index = 'category', columns = ['is_protected'])\n",
    "print(status_pivot)"
   ]
  },
  {
   "cell_type": "code",
   "execution_count": 52,
   "id": "3d2a11a8",
   "metadata": {},
   "outputs": [
    {
     "name": "stdout",
     "output_type": "stream",
     "text": [
      "                   not_protected  protected\n",
      "category                                   \n",
      "Amphibian                     73          7\n",
      "Bird                         442         79\n",
      "Fish                         116         11\n",
      "Mammal                       176         38\n",
      "Nonvascular Plant            328          5\n",
      "Reptile                       74          5\n",
      "Vascular Plant              4424         46\n"
     ]
    }
   ],
   "source": [
    "status_pivot.columns = ['not_protected', 'protected']\n",
    "print(status_pivot)"
   ]
  },
  {
   "cell_type": "code",
   "execution_count": 58,
   "id": "53afbb7d",
   "metadata": {},
   "outputs": [
    {
     "name": "stdout",
     "output_type": "stream",
     "text": [
      "                   not_protected  protected  percent_protected\n",
      "category                                                      \n",
      "Amphibian                     73          7           8.750000\n",
      "Bird                         442         79          15.163148\n",
      "Fish                         116         11           8.661417\n",
      "Mammal                       176         38          17.757009\n",
      "Nonvascular Plant            328          5           1.501502\n",
      "Reptile                       74          5           6.329114\n",
      "Vascular Plant              4424         46           1.029083\n"
     ]
    }
   ],
   "source": [
    "status_pivot['percent_protected'] = status_pivot['protected']/(status_pivot['protected']+status_pivot['not_protected']) * 100\n",
    "print(status_pivot)"
   ]
  },
  {
   "cell_type": "markdown",
   "id": "c14cd4bc",
   "metadata": {},
   "source": [
    "From this chart, it looks like Mammals are more likely to be endangered than Birds. Let's perform a significance test by using a chi squared test. First we will need a contingency table. We're going to need to import the chi2_contingency function from scipy in order to do so. For the test to be significant, the p-value should be less than 0.05."
   ]
  },
  {
   "cell_type": "code",
   "execution_count": 59,
   "id": "1bf43dbb",
   "metadata": {},
   "outputs": [
    {
     "name": "stdout",
     "output_type": "stream",
     "text": [
      "          protected  not_protected\n",
      "category                          \n",
      "Mammal           38            176\n",
      "Bird             79            442\n"
     ]
    }
   ],
   "source": [
    "contingency = status_pivot.loc[['Mammal', 'Bird'], ['protected', 'not_protected']]\n",
    "print(contingency)"
   ]
  },
  {
   "cell_type": "code",
   "execution_count": 60,
   "id": "f789a7e8",
   "metadata": {},
   "outputs": [
    {
     "data": {
      "text/plain": [
       "(0.5810483277947567,\n",
       " 0.445901703047197,\n",
       " 1,\n",
       " array([[ 34.06530612, 179.93469388],\n",
       "        [ 82.93469388, 438.06530612]]))"
      ]
     },
     "execution_count": 60,
     "metadata": {},
     "output_type": "execute_result"
    }
   ],
   "source": [
    "from scipy.stats import chi2_contingency\n",
    "\n",
    "chi2_contingency(contingency)"
   ]
  },
  {
   "cell_type": "markdown",
   "id": "b3eb867c",
   "metadata": {},
   "source": [
    "The p-value in the above test was 0.44, meaning there was no signifance difference between the Mammals and Birds. We can compare Mammals and Reptiles next to see if there is a significant difference between the two."
   ]
  },
  {
   "cell_type": "code",
   "execution_count": 67,
   "id": "72c2bc53",
   "metadata": {},
   "outputs": [
    {
     "name": "stdout",
     "output_type": "stream",
     "text": [
      "          protected  not_protected\n",
      "category                          \n",
      "Mammal           38            176\n",
      "Reptile           5             74\n",
      "(5.139702724228909, 0.02338465214871547, 1, array([[ 31.40614334, 182.59385666],\n",
      "       [ 11.59385666,  67.40614334]]))\n"
     ]
    }
   ],
   "source": [
    "contingency2 = status_pivot.loc[['Mammal', 'Reptile'], ['protected', 'not_protected']]\n",
    "print(contingency2)\n",
    "print(chi2_contingency(contingency2))"
   ]
  },
  {
   "cell_type": "markdown",
   "id": "e35af88f",
   "metadata": {},
   "source": [
    "The p-value is 0.023, making this difference significant."
   ]
  },
  {
   "cell_type": "markdown",
   "id": "54adbe61",
   "metadata": {},
   "source": [
    "### Looking at Observations\n",
    "\n",
    "Next, we will look at the observations table that we imported in the beginning. Let's figure out which species has been observed the most."
   ]
  },
  {
   "cell_type": "code",
   "execution_count": 80,
   "id": "276c32c8",
   "metadata": {},
   "outputs": [
    {
     "name": "stdout",
     "output_type": "stream",
     "text": [
      "[['Gappers', 'RedBacked', 'Vole'], ['American', 'Bison', 'Bison'], ['Aurochs', 'Aurochs', 'Domestic', 'Cattle', 'Feral', 'Domesticated', 'Cattle'], ['Domestic', 'Sheep', 'Mouflon', 'Red', 'Sheep', 'Sheep', 'Feral'], ['Wapiti', 'Or', 'Elk'], ['WhiteTailed', 'Deer'], ['Feral', 'Hog', 'Wild', 'Pig'], ['Coyote'], ['Gray', 'Wolf'], ['Red', 'Wolf']]\n"
     ]
    }
   ],
   "source": [
    "from itertools import chain\n",
    "import string\n",
    "\n",
    "def remove_punctuation(name):\n",
    "    for punctuation in string.punctuation:\n",
    "        name = name.replace(punctuation, '')\n",
    "    return name\n",
    "\n",
    "common_names = species[species.category == 'Mammal'].common_names.apply(remove_punctuation).str.split().tolist()\n",
    "print(common_names[:10])"
   ]
  },
  {
   "cell_type": "code",
   "execution_count": 81,
   "id": "524488a7",
   "metadata": {},
   "outputs": [
    {
     "name": "stdout",
     "output_type": "stream",
     "text": [
      "[['Gappers', 'RedBacked', 'Vole'], ['American', 'Bison'], ['Aurochs', 'Domestic', 'Cattle', 'Feral', 'Domesticated'], ['Domestic', 'Sheep', 'Mouflon', 'Red', 'Feral'], ['Wapiti', 'Or', 'Elk'], ['WhiteTailed', 'Deer'], ['Feral', 'Hog', 'Wild', 'Pig'], ['Coyote'], ['Gray', 'Wolf'], ['Red', 'Wolf']]\n"
     ]
    }
   ],
   "source": [
    "clean_rows = []\n",
    "for z in common_names:\n",
    "    z = list(dict.fromkeys(z))\n",
    "    clean_rows.append(z)\n",
    "print(clean_rows[:10])"
   ]
  },
  {
   "cell_type": "code",
   "execution_count": 82,
   "id": "24d19fb3",
   "metadata": {},
   "outputs": [
    {
     "name": "stdout",
     "output_type": "stream",
     "text": [
      "['Gappers', 'RedBacked', 'Vole', 'American', 'Bison', 'Aurochs', 'Domestic', 'Cattle', 'Feral', 'Domesticated']\n"
     ]
    }
   ],
   "source": [
    "results = list(chain.from_iterable(i if isinstance(i, list) else [i] for i in clean_rows))\n",
    "print(results[:10])"
   ]
  },
  {
   "cell_type": "code",
   "execution_count": 84,
   "id": "b4f93923",
   "metadata": {},
   "outputs": [
    {
     "data": {
      "text/html": [
       "<div>\n",
       "<style scoped>\n",
       "    .dataframe tbody tr th:only-of-type {\n",
       "        vertical-align: middle;\n",
       "    }\n",
       "\n",
       "    .dataframe tbody tr th {\n",
       "        vertical-align: top;\n",
       "    }\n",
       "\n",
       "    .dataframe thead th {\n",
       "        text-align: right;\n",
       "    }\n",
       "</style>\n",
       "<table border=\"1\" class=\"dataframe\">\n",
       "  <thead>\n",
       "    <tr style=\"text-align: right;\">\n",
       "      <th></th>\n",
       "      <th>Word</th>\n",
       "      <th>Count</th>\n",
       "    </tr>\n",
       "  </thead>\n",
       "  <tbody>\n",
       "    <tr>\n",
       "      <th>34</th>\n",
       "      <td>Bat</td>\n",
       "      <td>23</td>\n",
       "    </tr>\n",
       "    <tr>\n",
       "      <th>199</th>\n",
       "      <td>Shrew</td>\n",
       "      <td>18</td>\n",
       "    </tr>\n",
       "    <tr>\n",
       "      <th>112</th>\n",
       "      <td>Myotis</td>\n",
       "      <td>17</td>\n",
       "    </tr>\n",
       "    <tr>\n",
       "      <th>171</th>\n",
       "      <td>Mouse</td>\n",
       "      <td>16</td>\n",
       "    </tr>\n",
       "    <tr>\n",
       "      <th>80</th>\n",
       "      <td>Chipmunk</td>\n",
       "      <td>13</td>\n",
       "    </tr>\n",
       "    <tr>\n",
       "      <th>17</th>\n",
       "      <td>American</td>\n",
       "      <td>12</td>\n",
       "    </tr>\n",
       "    <tr>\n",
       "      <th>14</th>\n",
       "      <td>Squirrel</td>\n",
       "      <td>12</td>\n",
       "    </tr>\n",
       "    <tr>\n",
       "      <th>127</th>\n",
       "      <td>Vole</td>\n",
       "      <td>11</td>\n",
       "    </tr>\n",
       "    <tr>\n",
       "      <th>130</th>\n",
       "      <td>Eastern</td>\n",
       "      <td>11</td>\n",
       "    </tr>\n",
       "    <tr>\n",
       "      <th>202</th>\n",
       "      <td>Mountain</td>\n",
       "      <td>10</td>\n",
       "    </tr>\n",
       "  </tbody>\n",
       "</table>\n",
       "</div>"
      ],
      "text/plain": [
       "         Word  Count\n",
       "34        Bat     23\n",
       "199     Shrew     18\n",
       "112    Myotis     17\n",
       "171     Mouse     16\n",
       "80   Chipmunk     13\n",
       "17   American     12\n",
       "14   Squirrel     12\n",
       "127      Vole     11\n",
       "130   Eastern     11\n",
       "202  Mountain     10"
      ]
     },
     "execution_count": 84,
     "metadata": {},
     "output_type": "execute_result"
    }
   ],
   "source": [
    "words_counted = []\n",
    "for i in results:\n",
    "    x = results.count(i)\n",
    "    words_counted.append((i,x))\n",
    "\n",
    "pd.DataFrame(set(words_counted), columns = ['Word', 'Count']).sort_values('Count', ascending=False).head(10)"
   ]
  },
  {
   "cell_type": "markdown",
   "id": "558ec998",
   "metadata": {},
   "source": [
    "From this chart, we can see that Bats have had the most observations in this data set, followed closely by Shrews, Myotises, and Mice.\n",
    "\n",
    "However, there's a mix between different bats observed and other species. We will break this down even more by sifting through the common names and searching for bat. We will create another column titled 'is_bat'."
   ]
  },
  {
   "cell_type": "code",
   "execution_count": 87,
   "id": "da2952db",
   "metadata": {},
   "outputs": [
    {
     "data": {
      "text/html": [
       "<div>\n",
       "<style scoped>\n",
       "    .dataframe tbody tr th:only-of-type {\n",
       "        vertical-align: middle;\n",
       "    }\n",
       "\n",
       "    .dataframe tbody tr th {\n",
       "        vertical-align: top;\n",
       "    }\n",
       "\n",
       "    .dataframe thead th {\n",
       "        text-align: right;\n",
       "    }\n",
       "</style>\n",
       "<table border=\"1\" class=\"dataframe\">\n",
       "  <thead>\n",
       "    <tr style=\"text-align: right;\">\n",
       "      <th></th>\n",
       "      <th>category</th>\n",
       "      <th>scientific_name</th>\n",
       "      <th>common_names</th>\n",
       "      <th>conservation_status</th>\n",
       "      <th>is_protected</th>\n",
       "      <th>is_bat</th>\n",
       "    </tr>\n",
       "  </thead>\n",
       "  <tbody>\n",
       "    <tr>\n",
       "      <th>28</th>\n",
       "      <td>Mammal</td>\n",
       "      <td>Corynorhinus rafinesquii</td>\n",
       "      <td>Rafinesque's Big-Eared Bat</td>\n",
       "      <td>No Intervention</td>\n",
       "      <td>False</td>\n",
       "      <td>True</td>\n",
       "    </tr>\n",
       "    <tr>\n",
       "      <th>29</th>\n",
       "      <td>Mammal</td>\n",
       "      <td>Eptesicus fuscus</td>\n",
       "      <td>Big Brown Bat</td>\n",
       "      <td>Species of Concern</td>\n",
       "      <td>True</td>\n",
       "      <td>True</td>\n",
       "    </tr>\n",
       "    <tr>\n",
       "      <th>30</th>\n",
       "      <td>Mammal</td>\n",
       "      <td>Lasionycteris noctivagans</td>\n",
       "      <td>Silver-Haired Bat</td>\n",
       "      <td>Species of Concern</td>\n",
       "      <td>True</td>\n",
       "      <td>True</td>\n",
       "    </tr>\n",
       "    <tr>\n",
       "      <th>31</th>\n",
       "      <td>Mammal</td>\n",
       "      <td>Lasiurus borealis</td>\n",
       "      <td>Eastern Red Bat, Red Bat</td>\n",
       "      <td>No Intervention</td>\n",
       "      <td>False</td>\n",
       "      <td>True</td>\n",
       "    </tr>\n",
       "    <tr>\n",
       "      <th>32</th>\n",
       "      <td>Mammal</td>\n",
       "      <td>Lasiurus cinereus</td>\n",
       "      <td>Hoary Bat</td>\n",
       "      <td>No Intervention</td>\n",
       "      <td>False</td>\n",
       "      <td>True</td>\n",
       "    </tr>\n",
       "    <tr>\n",
       "      <th>36</th>\n",
       "      <td>Mammal</td>\n",
       "      <td>Myotis leibii</td>\n",
       "      <td>Eastern Small-Footed Bat, Eastern Small-Footed...</td>\n",
       "      <td>Species of Concern</td>\n",
       "      <td>True</td>\n",
       "      <td>True</td>\n",
       "    </tr>\n",
       "    <tr>\n",
       "      <th>37</th>\n",
       "      <td>Mammal</td>\n",
       "      <td>Myotis lucifugus</td>\n",
       "      <td>Little Brown Bat, Little Brown Myotis</td>\n",
       "      <td>Species of Concern</td>\n",
       "      <td>True</td>\n",
       "      <td>True</td>\n",
       "    </tr>\n",
       "    <tr>\n",
       "      <th>38</th>\n",
       "      <td>Mammal</td>\n",
       "      <td>Myotis septentrionalis</td>\n",
       "      <td>Northern Long-Eared Bat, Northern Myotis</td>\n",
       "      <td>Threatened</td>\n",
       "      <td>True</td>\n",
       "      <td>True</td>\n",
       "    </tr>\n",
       "    <tr>\n",
       "      <th>39</th>\n",
       "      <td>Mammal</td>\n",
       "      <td>Myotis sodalis</td>\n",
       "      <td>Indiana Bat, Indiana Or Social Myotis</td>\n",
       "      <td>Endangered</td>\n",
       "      <td>True</td>\n",
       "      <td>True</td>\n",
       "    </tr>\n",
       "    <tr>\n",
       "      <th>40</th>\n",
       "      <td>Mammal</td>\n",
       "      <td>Nycticeius humeralis</td>\n",
       "      <td>Evening Bat</td>\n",
       "      <td>No Intervention</td>\n",
       "      <td>False</td>\n",
       "      <td>True</td>\n",
       "    </tr>\n",
       "    <tr>\n",
       "      <th>3033</th>\n",
       "      <td>Mammal</td>\n",
       "      <td>Antrozous pallidus</td>\n",
       "      <td>Pallid Bat, Pallid Bat</td>\n",
       "      <td>Species of Concern</td>\n",
       "      <td>True</td>\n",
       "      <td>True</td>\n",
       "    </tr>\n",
       "    <tr>\n",
       "      <th>3034</th>\n",
       "      <td>Mammal</td>\n",
       "      <td>Corynorhinus townsendii</td>\n",
       "      <td>Mule-Eared Bat, Pacific Townsend's Big-Eared B...</td>\n",
       "      <td>No Intervention</td>\n",
       "      <td>False</td>\n",
       "      <td>True</td>\n",
       "    </tr>\n",
       "    <tr>\n",
       "      <th>3035</th>\n",
       "      <td>Mammal</td>\n",
       "      <td>Eptesicus fuscus</td>\n",
       "      <td>Big Brown Bat, Big Brown Bat</td>\n",
       "      <td>Species of Concern</td>\n",
       "      <td>True</td>\n",
       "      <td>True</td>\n",
       "    </tr>\n",
       "    <tr>\n",
       "      <th>3036</th>\n",
       "      <td>Mammal</td>\n",
       "      <td>Euderma maculatum</td>\n",
       "      <td>Spotted Bat, Spotted Bat</td>\n",
       "      <td>Species of Concern</td>\n",
       "      <td>True</td>\n",
       "      <td>True</td>\n",
       "    </tr>\n",
       "    <tr>\n",
       "      <th>3037</th>\n",
       "      <td>Mammal</td>\n",
       "      <td>Lasionycteris noctivagans</td>\n",
       "      <td>Silver-Haired Bat, Silver-Haired Bat</td>\n",
       "      <td>Species of Concern</td>\n",
       "      <td>True</td>\n",
       "      <td>True</td>\n",
       "    </tr>\n",
       "    <tr>\n",
       "      <th>3038</th>\n",
       "      <td>Mammal</td>\n",
       "      <td>Lasiurus cinereus</td>\n",
       "      <td>Hoary Bat, Hoary Bat</td>\n",
       "      <td>No Intervention</td>\n",
       "      <td>False</td>\n",
       "      <td>True</td>\n",
       "    </tr>\n",
       "    <tr>\n",
       "      <th>3040</th>\n",
       "      <td>Mammal</td>\n",
       "      <td>Myotis ciliolabrum</td>\n",
       "      <td>Small-Footed Myotis, Western Small-Footed Bat,...</td>\n",
       "      <td>No Intervention</td>\n",
       "      <td>False</td>\n",
       "      <td>True</td>\n",
       "    </tr>\n",
       "    <tr>\n",
       "      <th>3042</th>\n",
       "      <td>Mammal</td>\n",
       "      <td>Myotis lucifugus</td>\n",
       "      <td>Little Brown Bat, Little Brown Myotis, Little ...</td>\n",
       "      <td>Species of Concern</td>\n",
       "      <td>True</td>\n",
       "      <td>True</td>\n",
       "    </tr>\n",
       "    <tr>\n",
       "      <th>4461</th>\n",
       "      <td>Mammal</td>\n",
       "      <td>Eumops perotis</td>\n",
       "      <td>Western Mastiff Bat</td>\n",
       "      <td>No Intervention</td>\n",
       "      <td>False</td>\n",
       "      <td>True</td>\n",
       "    </tr>\n",
       "    <tr>\n",
       "      <th>4462</th>\n",
       "      <td>Mammal</td>\n",
       "      <td>Tadarida brasiliensis</td>\n",
       "      <td>Mexican Free-Tailed Bat</td>\n",
       "      <td>No Intervention</td>\n",
       "      <td>False</td>\n",
       "      <td>True</td>\n",
       "    </tr>\n",
       "    <tr>\n",
       "      <th>4463</th>\n",
       "      <td>Mammal</td>\n",
       "      <td>Corynorhinus townsendii</td>\n",
       "      <td>Townsend's Big-Eared Bat</td>\n",
       "      <td>No Intervention</td>\n",
       "      <td>False</td>\n",
       "      <td>True</td>\n",
       "    </tr>\n",
       "    <tr>\n",
       "      <th>4464</th>\n",
       "      <td>Mammal</td>\n",
       "      <td>Lasiurus blossevillii</td>\n",
       "      <td>Western Red Bat</td>\n",
       "      <td>Species of Concern</td>\n",
       "      <td>True</td>\n",
       "      <td>True</td>\n",
       "    </tr>\n",
       "    <tr>\n",
       "      <th>4468</th>\n",
       "      <td>Mammal</td>\n",
       "      <td>Parastrellus hesperus</td>\n",
       "      <td>Canyon Bat</td>\n",
       "      <td>No Intervention</td>\n",
       "      <td>False</td>\n",
       "      <td>True</td>\n",
       "    </tr>\n",
       "  </tbody>\n",
       "</table>\n",
       "</div>"
      ],
      "text/plain": [
       "     category            scientific_name  \\\n",
       "28     Mammal   Corynorhinus rafinesquii   \n",
       "29     Mammal           Eptesicus fuscus   \n",
       "30     Mammal  Lasionycteris noctivagans   \n",
       "31     Mammal          Lasiurus borealis   \n",
       "32     Mammal          Lasiurus cinereus   \n",
       "36     Mammal              Myotis leibii   \n",
       "37     Mammal           Myotis lucifugus   \n",
       "38     Mammal     Myotis septentrionalis   \n",
       "39     Mammal             Myotis sodalis   \n",
       "40     Mammal       Nycticeius humeralis   \n",
       "3033   Mammal         Antrozous pallidus   \n",
       "3034   Mammal    Corynorhinus townsendii   \n",
       "3035   Mammal           Eptesicus fuscus   \n",
       "3036   Mammal          Euderma maculatum   \n",
       "3037   Mammal  Lasionycteris noctivagans   \n",
       "3038   Mammal          Lasiurus cinereus   \n",
       "3040   Mammal         Myotis ciliolabrum   \n",
       "3042   Mammal           Myotis lucifugus   \n",
       "4461   Mammal             Eumops perotis   \n",
       "4462   Mammal      Tadarida brasiliensis   \n",
       "4463   Mammal    Corynorhinus townsendii   \n",
       "4464   Mammal      Lasiurus blossevillii   \n",
       "4468   Mammal      Parastrellus hesperus   \n",
       "\n",
       "                                           common_names conservation_status  \\\n",
       "28                           Rafinesque's Big-Eared Bat     No Intervention   \n",
       "29                                        Big Brown Bat  Species of Concern   \n",
       "30                                    Silver-Haired Bat  Species of Concern   \n",
       "31                             Eastern Red Bat, Red Bat     No Intervention   \n",
       "32                                            Hoary Bat     No Intervention   \n",
       "36    Eastern Small-Footed Bat, Eastern Small-Footed...  Species of Concern   \n",
       "37                Little Brown Bat, Little Brown Myotis  Species of Concern   \n",
       "38             Northern Long-Eared Bat, Northern Myotis          Threatened   \n",
       "39                Indiana Bat, Indiana Or Social Myotis          Endangered   \n",
       "40                                          Evening Bat     No Intervention   \n",
       "3033                             Pallid Bat, Pallid Bat  Species of Concern   \n",
       "3034  Mule-Eared Bat, Pacific Townsend's Big-Eared B...     No Intervention   \n",
       "3035                       Big Brown Bat, Big Brown Bat  Species of Concern   \n",
       "3036                           Spotted Bat, Spotted Bat  Species of Concern   \n",
       "3037               Silver-Haired Bat, Silver-Haired Bat  Species of Concern   \n",
       "3038                               Hoary Bat, Hoary Bat     No Intervention   \n",
       "3040  Small-Footed Myotis, Western Small-Footed Bat,...     No Intervention   \n",
       "3042  Little Brown Bat, Little Brown Myotis, Little ...  Species of Concern   \n",
       "4461                                Western Mastiff Bat     No Intervention   \n",
       "4462                            Mexican Free-Tailed Bat     No Intervention   \n",
       "4463                           Townsend's Big-Eared Bat     No Intervention   \n",
       "4464                                    Western Red Bat  Species of Concern   \n",
       "4468                                         Canyon Bat     No Intervention   \n",
       "\n",
       "      is_protected  is_bat  \n",
       "28           False    True  \n",
       "29            True    True  \n",
       "30            True    True  \n",
       "31           False    True  \n",
       "32           False    True  \n",
       "36            True    True  \n",
       "37            True    True  \n",
       "38            True    True  \n",
       "39            True    True  \n",
       "40           False    True  \n",
       "3033          True    True  \n",
       "3034         False    True  \n",
       "3035          True    True  \n",
       "3036          True    True  \n",
       "3037          True    True  \n",
       "3038         False    True  \n",
       "3040         False    True  \n",
       "3042          True    True  \n",
       "4461         False    True  \n",
       "4462         False    True  \n",
       "4463         False    True  \n",
       "4464          True    True  \n",
       "4468         False    True  "
      ]
     },
     "execution_count": 87,
     "metadata": {},
     "output_type": "execute_result"
    }
   ],
   "source": [
    "species['is_bat'] = species.common_names.str.contains(r'\\bBat\\b', regex=True)\n",
    "species[species.is_bat]"
   ]
  },
  {
   "cell_type": "markdown",
   "id": "2587ed09",
   "metadata": {},
   "source": [
    "Now that we have our comprehensive list of bats, let's merge this table with the observations table. Doing this will help us count the number of bats seen in each National Park, and we can go further to separate which bats are and are not protected in each park as well."
   ]
  },
  {
   "cell_type": "code",
   "execution_count": 88,
   "id": "e7dc886e",
   "metadata": {},
   "outputs": [
    {
     "name": "stdout",
     "output_type": "stream",
     "text": [
      "              scientific_name                            park_name  \\\n",
      "0       Lasiurus blossevillii                  Bryce National Park   \n",
      "1       Lasiurus blossevillii  Great Smoky Mountains National Park   \n",
      "2       Lasiurus blossevillii               Yosemite National Park   \n",
      "3       Lasiurus blossevillii            Yellowstone National Park   \n",
      "4    Corynorhinus rafinesquii               Yosemite National Park   \n",
      "..                        ...                                  ...   \n",
      "139            Myotis sodalis            Yellowstone National Park   \n",
      "140             Myotis leibii               Yosemite National Park   \n",
      "141             Myotis leibii                  Bryce National Park   \n",
      "142             Myotis leibii  Great Smoky Mountains National Park   \n",
      "143             Myotis leibii            Yellowstone National Park   \n",
      "\n",
      "     observations category                                       common_names  \\\n",
      "0             113   Mammal                                    Western Red Bat   \n",
      "1              70   Mammal                                    Western Red Bat   \n",
      "2             123   Mammal                                    Western Red Bat   \n",
      "3             221   Mammal                                    Western Red Bat   \n",
      "4             188   Mammal                         Rafinesque's Big-Eared Bat   \n",
      "..            ...      ...                                                ...   \n",
      "139            68   Mammal              Indiana Bat, Indiana Or Social Myotis   \n",
      "140           132   Mammal  Eastern Small-Footed Bat, Eastern Small-Footed...   \n",
      "141            84   Mammal  Eastern Small-Footed Bat, Eastern Small-Footed...   \n",
      "142            49   Mammal  Eastern Small-Footed Bat, Eastern Small-Footed...   \n",
      "143           233   Mammal  Eastern Small-Footed Bat, Eastern Small-Footed...   \n",
      "\n",
      "    conservation_status  is_protected  is_bat  \n",
      "0    Species of Concern          True    True  \n",
      "1    Species of Concern          True    True  \n",
      "2    Species of Concern          True    True  \n",
      "3    Species of Concern          True    True  \n",
      "4       No Intervention         False    True  \n",
      "..                  ...           ...     ...  \n",
      "139          Endangered          True    True  \n",
      "140  Species of Concern          True    True  \n",
      "141  Species of Concern          True    True  \n",
      "142  Species of Concern          True    True  \n",
      "143  Species of Concern          True    True  \n",
      "\n",
      "[144 rows x 8 columns]\n"
     ]
    }
   ],
   "source": [
    "total_bat_obsv = observations.merge(species[species.is_bat])\n",
    "print(total_bat_obsv)"
   ]
  },
  {
   "cell_type": "code",
   "execution_count": 89,
   "id": "9a4e03f9",
   "metadata": {},
   "outputs": [
    {
     "name": "stdout",
     "output_type": "stream",
     "text": [
      "                             park_name  is_protected  observations\n",
      "0                  Bryce National Park         False          1596\n",
      "1                  Bryce National Park          True          1837\n",
      "2  Great Smoky Mountains National Park         False          1299\n",
      "3  Great Smoky Mountains National Park          True          1112\n",
      "4            Yellowstone National Park         False          4044\n",
      "5            Yellowstone National Park          True          4318\n",
      "6               Yosemite National Park         False          2345\n",
      "7               Yosemite National Park          True          2441\n"
     ]
    }
   ],
   "source": [
    "total_bat_obsv.groupby('park_name').observations.sum().reset_index()\n",
    "obsv_by_park = total_bat_obsv.groupby(['park_name', 'is_protected']).observations.sum().reset_index()\n",
    "print(obsv_by_park)"
   ]
  },
  {
   "cell_type": "code",
   "execution_count": 105,
   "id": "34afe118",
   "metadata": {},
   "outputs": [
    {
     "data": {
      "image/png": "[encoded data removed]",
      "text/plain": [
       "<Figure size 1600x400 with 1 Axes>"
      ]
     },
     "metadata": {},
     "output_type": "display_data"
    }
   ],
   "source": [
    "plt.figure(figsize=(16, 4))\n",
    "sns.barplot(x=obsv_by_park.park_name, y=obsv_by_park.observations, hue=obsv_by_park.is_protected, color='green')\n",
    "plt.xlabel('National Parks')\n",
    "plt.ylabel('Number of Observations')\n",
    "plt.title('Total Observations of Bats by Week')\n",
    "plt.show()"
   ]
  },
  {
   "cell_type": "markdown",
   "id": "2f6c45ff",
   "metadata": {},
   "source": [
    "In the above bar chart, we can see that Bryce National Park, Yellowstone National Park, and Yosemite National Park all have had more observations of protected species than non protected species. This indicates a positive inclination towards the improvement of their bat populations from the concerned lists. Great Smoky Mountains National Park is the only park showing more observations of non protected species than protected ones, meaning they might consider more methods in order to improve their population."
   ]
  },
  {
   "cell_type": "code",
   "execution_count": null,
   "id": "a79638ba",
   "metadata": {},
   "outputs": [],
   "source": []
  }
 ],
 "metadata": {
  "kernelspec": {
   "display_name": "Python 3 (ipykernel)",
   "language": "python",
   "name": "python3"
  },
  "language_info": {
   "codemirror_mode": {
    "name": "ipython",
    "version": 3
   },
   "file_extension": ".py",
   "mimetype": "text/x-python",
   "name": "python",
   "nbconvert_exporter": "python",
   "pygments_lexer": "ipython3",
   "version": "3.9.13"
  }
 },
 "nbformat": 4,
 "nbformat_minor": 5
}
